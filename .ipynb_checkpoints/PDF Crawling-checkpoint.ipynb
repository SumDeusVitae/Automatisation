{
 "cells": [
  {
   "cell_type": "code",
   "execution_count": 11,
   "id": "cc99f081",
   "metadata": {},
   "outputs": [],
   "source": [
    "#intstall tk, ghostscript and camelot-py\n",
    "import camelot\n",
    "import pandas as pd"
   ]
  },
  {
   "cell_type": "code",
   "execution_count": 2,
   "id": "3aa96ae9",
   "metadata": {},
   "outputs": [],
   "source": [
    "tables = camelot.read_pdf(\"D:\\Files\\JeffNippard\\Jeff+Nippard's+Fundamentals+Hypertrophy+Program.pdf\", pages = '44')"
   ]
  },
  {
   "cell_type": "code",
   "execution_count": 5,
   "id": "935f3d07",
   "metadata": {},
   "outputs": [
    {
     "name": "stdout",
     "output_type": "stream",
     "text": [
      "<TableList n=3>\n"
     ]
    }
   ],
   "source": [
    "print(tables)"
   ]
  },
  {
   "cell_type": "code",
   "execution_count": 10,
   "id": "e521ca20",
   "metadata": {},
   "outputs": [],
   "source": [
    "tables.export('week6.csv', f='csv', compress=True)\n",
    "for i in range(len(tables)):\n",
    "  tables[i].to_csv(f\"week6Tab{i}.csv\")\n"
   ]
  },
  {
   "cell_type": "code",
   "execution_count": 12,
   "id": "e0e06658",
   "metadata": {},
   "outputs": [],
   "source": [
    "table0 = pd.read_csv('week6Tab0.csv') "
   ]
  },
  {
   "cell_type": "code",
   "execution_count": 19,
   "id": "55a87166",
   "metadata": {},
   "outputs": [],
   "source": [
    "table0.drop(columns=['Unnamed: 9', 'Unnamed: 5','Unnamed: 6', 'Unnamed: 7'], inplace=True)"
   ]
  },
  {
   "cell_type": "code",
   "execution_count": 24,
   "id": "c7889bbe",
   "metadata": {},
   "outputs": [],
   "source": [
    "table0.rename(columns={'FULL BODY #1\\nSETS\\nREPS\\nRPE\\nREST\\n1\\n2\\n3\\nNOTES\\nLSRPE':'Exercise',\n",
    "                      'Un|named: 1': 'Sets', 'Unnamed: 2':'Reps', 'Unnamed: 3':'RPE',\n",
    "                        'Unnamed: 4':'Rest Time', 'Unnamed: 8':'Explanation',}, inplace=True)"
   ]
  },
  {
   "cell_type": "code",
   "execution_count": 25,
   "id": "74a6dd47",
   "metadata": {},
   "outputs": [
    {
     "data": {
      "text/html": [
       "<div>\n",
       "<style scoped>\n",
       "    .dataframe tbody tr th:only-of-type {\n",
       "        vertical-align: middle;\n",
       "    }\n",
       "\n",
       "    .dataframe tbody tr th {\n",
       "        vertical-align: top;\n",
       "    }\n",
       "\n",
       "    .dataframe thead th {\n",
       "        text-align: right;\n",
       "    }\n",
       "</style>\n",
       "<table border=\"1\" class=\"dataframe\">\n",
       "  <thead>\n",
       "    <tr style=\"text-align: right;\">\n",
       "      <th></th>\n",
       "      <th>Exercise</th>\n",
       "      <th>Sets</th>\n",
       "      <th>Reps</th>\n",
       "      <th>RPE</th>\n",
       "      <th>Rest Time</th>\n",
       "      <th>explanation</th>\n",
       "    </tr>\n",
       "  </thead>\n",
       "  <tbody>\n",
       "    <tr>\n",
       "      <th>0</th>\n",
       "      <td>BACK SQUAT</td>\n",
       "      <td>3</td>\n",
       "      <td>8</td>\n",
       "      <td>8</td>\n",
       "      <td>3-4MIN</td>\n",
       "      <td>SIT BACK AND DOWN, 15° TOE FLARE, DRIVE YOUR K...</td>\n",
       "    </tr>\n",
       "    <tr>\n",
       "      <th>1</th>\n",
       "      <td>DUMBBELL SEATED SHOULDER \\nPRESS</td>\n",
       "      <td>3</td>\n",
       "      <td>10</td>\n",
       "      <td>8</td>\n",
       "      <td>3-4MIN</td>\n",
       "      <td>BRING THE DUMBBELL ALL THE WAY DOWN TO YOUR SH...</td>\n",
       "    </tr>\n",
       "    <tr>\n",
       "      <th>2</th>\n",
       "      <td>SINGLE-ARM PULLDOWN</td>\n",
       "      <td>3</td>\n",
       "      <td>12</td>\n",
       "      <td>9</td>\n",
       "      <td>2-3MIN</td>\n",
       "      <td>START WITH YOUR NON-DOMINANT ARM, MATCH REPS W...</td>\n",
       "    </tr>\n",
       "    <tr>\n",
       "      <th>3</th>\n",
       "      <td>BARBELL HIP THRUST</td>\n",
       "      <td>3</td>\n",
       "      <td>8</td>\n",
       "      <td>9</td>\n",
       "      <td>2-3MIN</td>\n",
       "      <td>TUCK YOUR CHIN AND RIB CAGE DOWN, ONLY MOVE YO...</td>\n",
       "    </tr>\n",
       "    <tr>\n",
       "      <th>4</th>\n",
       "      <td>PEC DECK</td>\n",
       "      <td>3</td>\n",
       "      <td>15</td>\n",
       "      <td>9</td>\n",
       "      <td>1-2MIN</td>\n",
       "      <td>KEEP YOUR SCAPULAE RETRACTED, PULL YOUR INNER ...</td>\n",
       "    </tr>\n",
       "    <tr>\n",
       "      <th>5</th>\n",
       "      <td>REVERSE PEC DECK</td>\n",
       "      <td>3</td>\n",
       "      <td>15</td>\n",
       "      <td>9</td>\n",
       "      <td>1-2MIN</td>\n",
       "      <td>PROTRACT YOUR SCAPULAE, SWEEP THE WEIGHT OUT A...</td>\n",
       "    </tr>\n",
       "    <tr>\n",
       "      <th>6</th>\n",
       "      <td>CABLE LATERAL RAISE</td>\n",
       "      <td>3</td>\n",
       "      <td>12</td>\n",
       "      <td>9</td>\n",
       "      <td>1-2MIN</td>\n",
       "      <td>LEAN AWAY FROM THE MACHINE, ARMS STRAIGHT OUT ...</td>\n",
       "    </tr>\n",
       "  </tbody>\n",
       "</table>\n",
       "</div>"
      ],
      "text/plain": [
       "                           Exercise  Sets  Reps  RPE Rest Time  \\\n",
       "0                        BACK SQUAT     3     8    8    3-4MIN   \n",
       "1  DUMBBELL SEATED SHOULDER \\nPRESS     3    10    8    3-4MIN   \n",
       "2               SINGLE-ARM PULLDOWN     3    12    9    2-3MIN   \n",
       "3                BARBELL HIP THRUST     3     8    9    2-3MIN   \n",
       "4                          PEC DECK     3    15    9    1-2MIN   \n",
       "5                  REVERSE PEC DECK     3    15    9    1-2MIN   \n",
       "6               CABLE LATERAL RAISE     3    12    9    1-2MIN   \n",
       "\n",
       "                                         explanation  \n",
       "0  SIT BACK AND DOWN, 15° TOE FLARE, DRIVE YOUR K...  \n",
       "1  BRING THE DUMBBELL ALL THE WAY DOWN TO YOUR SH...  \n",
       "2  START WITH YOUR NON-DOMINANT ARM, MATCH REPS W...  \n",
       "3  TUCK YOUR CHIN AND RIB CAGE DOWN, ONLY MOVE YO...  \n",
       "4  KEEP YOUR SCAPULAE RETRACTED, PULL YOUR INNER ...  \n",
       "5  PROTRACT YOUR SCAPULAE, SWEEP THE WEIGHT OUT A...  \n",
       "6  LEAN AWAY FROM THE MACHINE, ARMS STRAIGHT OUT ...  "
      ]
     },
     "execution_count": 25,
     "metadata": {},
     "output_type": "execute_result"
    }
   ],
   "source": [
    "table0"
   ]
  },
  {
   "cell_type": "code",
   "execution_count": null,
   "id": "c5f263d2",
   "metadata": {},
   "outputs": [],
   "source": []
  }
 ],
 "metadata": {
  "kernelspec": {
   "display_name": "Python 3 (ipykernel)",
   "language": "python",
   "name": "python3"
  },
  "language_info": {
   "codemirror_mode": {
    "name": "ipython",
    "version": 3
   },
   "file_extension": ".py",
   "mimetype": "text/x-python",
   "name": "python",
   "nbconvert_exporter": "python",
   "pygments_lexer": "ipython3",
   "version": "3.11.5"
  }
 },
 "nbformat": 4,
 "nbformat_minor": 5
}
